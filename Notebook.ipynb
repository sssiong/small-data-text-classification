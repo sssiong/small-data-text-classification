{
 "cells": [
  {
   "cell_type": "markdown",
   "id": "1ab640c9-6eb4-482c-ba3d-08b41021a50a",
   "metadata": {},
   "source": [
    "# Purpose"
   ]
  },
  {
   "cell_type": "markdown",
   "id": "9909a3c2-cfcd-4916-bdbe-29aad343a7e0",
   "metadata": {},
   "source": [
    "- Inspired by https://towardsdatascience.com/text-classification-challenge-with-extra-small-datasets-fine-tuning-versus-chatgpt-6348fecea357\n",
    "- Want to explore approaches using transformers that work well on multi-label text classification problems with limited data"
   ]
  },
  {
   "cell_type": "markdown",
   "id": "087d1559-3c5b-4926-b3cf-2a0246e20e4d",
   "metadata": {},
   "source": [
    "# Packages"
   ]
  },
  {
   "cell_type": "code",
   "execution_count": 1,
   "id": "0ba54a50-b0a7-48bd-a8da-bb9b9066c74a",
   "metadata": {},
   "outputs": [],
   "source": [
    "import pandas as pd\n",
    "import time\n",
    "import warnings\n",
    "\n",
    "warnings.filterwarnings('ignore')\n",
    "\n",
    "%load_ext autoreload\n",
    "%autoreload 2\n",
    "from constants import DATASOURCES\n",
    "from data import DataCollector\n",
    "from src.classifier.basic import BasicClassifier\n",
    "from src.classifier.retrieval import RetrievalClassifier\n",
    "from src.utils import evaluate_clf"
   ]
  },
  {
   "cell_type": "markdown",
   "id": "5463a8f7-72d5-4a04-b116-ad6bbd7999a9",
   "metadata": {},
   "source": [
    "# Data"
   ]
  },
  {
   "cell_type": "markdown",
   "id": "6f2a439b-4cb1-4c4f-928c-80d1d935a9d1",
   "metadata": {},
   "source": [
    "- Refer to README.md for details about the datasets being used\n",
    "- For each dataset, sample a small subset to mimic situation with limited labelled data\n",
    "- Preserve distribution of labels between train & test using stratified random sampling"
   ]
  },
  {
   "cell_type": "code",
   "execution_count": 2,
   "id": "0823ac33-0da0-4d50-9f86-b1a6c33e432a",
   "metadata": {},
   "outputs": [
    {
     "name": "stdout",
     "output_type": "stream",
     "text": [
      "Loading goemotions - goemotions_1.csv ...\n",
      "Done in 0.3s with 501 records in train & 249 records in test\n",
      "Loading just_dance - jd-multi-label-dataset.csv ...\n",
      "Done in 1.3s with 498 records in train & 252 records in test\n",
      "Loading pubmed - PubMed Multi Label Text Classification Dataset Processed.csv ...\n",
      "Done in 1.1s with 500 records in train & 250 records in test\n",
      "Loading research_papers - train.csv ...\n",
      "Done in 0.2s with 501 records in train & 249 records in test\n"
     ]
    }
   ],
   "source": [
    "data = DataCollector(n_train=500, n_test=250, n_labels=5)\n",
    "data.load()"
   ]
  },
  {
   "cell_type": "code",
   "execution_count": 3,
   "id": "6990bd26-1f31-4c19-a4ca-353e64df0b55",
   "metadata": {},
   "outputs": [
    {
     "name": "stdout",
     "output_type": "stream",
     "text": [
      "\n",
      "*** Dataset: goemotions (train=501, test=249) ***\n",
      "\n",
      "            train  test\n",
      "admiration    124    62\n",
      "amusement      75    37\n",
      "anger          68    34\n",
      "annoyance     115    58\n",
      "approval      159    79\n",
      "\n",
      "*** Dataset: just_dance (train=498, test=252) ***\n",
      "\n",
      "              train  test\n",
      "Usability       198    99\n",
      "UX              457   229\n",
      "H-QOL           377   189\n",
      "Memorability      6     1\n",
      "Learnability     29    13\n",
      "\n",
      "*** Dataset: pubmed (train=500, test=250) ***\n",
      "\n",
      "   train  test\n",
      "A    223   130\n",
      "B    477   239\n",
      "C    264   132\n",
      "D    322   161\n",
      "E    395   198\n",
      "\n",
      "*** Dataset: research_papers (train=501, test=249) ***\n",
      "\n",
      "                      train  test\n",
      "Computer Science        209   105\n",
      "Physics                 149    74\n",
      "Mathematics             121    60\n",
      "Statistics              133    66\n",
      "Quantitative Biology     15     8\n"
     ]
    }
   ],
   "source": [
    "data.print_label_distribution()"
   ]
  },
  {
   "cell_type": "markdown",
   "id": "4c45de5f-c440-4bf3-b8b5-6a0f83f3f7ac",
   "metadata": {},
   "source": [
    "# Fit Classifiers"
   ]
  },
  {
   "cell_type": "markdown",
   "id": "91e8e56b-d52b-45c1-ab78-65f6f76c4a97",
   "metadata": {},
   "source": [
    "- Want to compare 2 different classifiers\n",
    "    - BasicClassifier: traditional tfidf + SVM classifer approach\n",
    "    - RetrievalClassifier: creates vectorstore using training data & predicts using labels from relevant training data retrieved from vectorstore"
   ]
  },
  {
   "cell_type": "code",
   "execution_count": 4,
   "id": "70779d00-38a6-4f52-8522-2c091402ac93",
   "metadata": {},
   "outputs": [
    {
     "name": "stdout",
     "output_type": "stream",
     "text": [
      "goemotions - BasicClassifier fit completed in 0.0s\n",
      "goemotions - RetrievalClassifier fit completed in 3.3s\n",
      "just_dance - BasicClassifier fit completed in 0.0s\n",
      "just_dance - RetrievalClassifier fit completed in 1.5s\n",
      "pubmed - BasicClassifier fit completed in 0.2s\n",
      "pubmed - RetrievalClassifier fit completed in 12.0s\n",
      "research_papers - BasicClassifier fit completed in 0.1s\n",
      "research_papers - RetrievalClassifier fit completed in 11.2s\n"
     ]
    }
   ],
   "source": [
    "clfs = []\n",
    "for data_name, (X_train, y_train, X_test, y_test) in data.datasets:\n",
    "    for clf_cls in [BasicClassifier, RetrievalClassifier]:\n",
    "        t = time.time()\n",
    "        clf = clf_cls()\n",
    "        clf.fit(X_train, y_train)\n",
    "        clf_name = clf.__class__.__name__\n",
    "        print(f'{data_name} - {clf_name} fit completed in {time.time()-t:.1f}s')\n",
    "        clfs.append({'data_name': data_name, 'clf_name': clf_name, 'clf': clf})"
   ]
  },
  {
   "cell_type": "code",
   "execution_count": 5,
   "id": "cfc61dc6-da05-4a3d-b359-b4fe859a49c2",
   "metadata": {},
   "outputs": [
    {
     "data": {
      "text/plain": [
       "[{'data_name': 'goemotions',\n",
       "  'clf_name': 'BasicClassifier',\n",
       "  'clf': BasicClassifier()},\n",
       " {'data_name': 'goemotions',\n",
       "  'clf_name': 'RetrievalClassifier',\n",
       "  'clf': RetrievalClassifier(k=4, model_name='sentence-transformers/all-MiniLM-L6-v2')},\n",
       " {'data_name': 'just_dance',\n",
       "  'clf_name': 'BasicClassifier',\n",
       "  'clf': BasicClassifier()},\n",
       " {'data_name': 'just_dance',\n",
       "  'clf_name': 'RetrievalClassifier',\n",
       "  'clf': RetrievalClassifier(k=4, model_name='sentence-transformers/all-MiniLM-L6-v2')},\n",
       " {'data_name': 'pubmed',\n",
       "  'clf_name': 'BasicClassifier',\n",
       "  'clf': BasicClassifier()},\n",
       " {'data_name': 'pubmed',\n",
       "  'clf_name': 'RetrievalClassifier',\n",
       "  'clf': RetrievalClassifier(k=4, model_name='sentence-transformers/all-MiniLM-L6-v2')},\n",
       " {'data_name': 'research_papers',\n",
       "  'clf_name': 'BasicClassifier',\n",
       "  'clf': BasicClassifier()},\n",
       " {'data_name': 'research_papers',\n",
       "  'clf_name': 'RetrievalClassifier',\n",
       "  'clf': RetrievalClassifier(k=4, model_name='sentence-transformers/all-MiniLM-L6-v2')}]"
      ]
     },
     "execution_count": 5,
     "metadata": {},
     "output_type": "execute_result"
    }
   ],
   "source": [
    "clfs"
   ]
  },
  {
   "cell_type": "markdown",
   "id": "eb9b0312-0de4-47b2-8c0c-b3fb5b9f47c3",
   "metadata": {},
   "source": [
    "# Evaluate Classifiers"
   ]
  },
  {
   "cell_type": "code",
   "execution_count": 6,
   "id": "2742dfad-bc14-4bdc-b430-740edfcb1e28",
   "metadata": {},
   "outputs": [
    {
     "name": "stdout",
     "output_type": "stream",
     "text": [
      "BasicClassifier predict completed in 0.0s\n"
     ]
    },
    {
     "name": "stderr",
     "output_type": "stream",
     "text": [
      "100%|█████████████████████████████████████████████████████████████████████████████████████████████████████████████████| 249/249 [00:10<00:00, 22.84it/s]\n"
     ]
    },
    {
     "name": "stdout",
     "output_type": "stream",
     "text": [
      "RetrievalClassifier predict completed in 10.9s\n",
      "BasicClassifier predict completed in 0.0s\n"
     ]
    },
    {
     "name": "stderr",
     "output_type": "stream",
     "text": [
      "100%|█████████████████████████████████████████████████████████████████████████████████████████████████████████████████| 252/252 [00:08<00:00, 29.16it/s]\n"
     ]
    },
    {
     "name": "stdout",
     "output_type": "stream",
     "text": [
      "RetrievalClassifier predict completed in 8.7s\n",
      "BasicClassifier predict completed in 0.1s\n"
     ]
    },
    {
     "name": "stderr",
     "output_type": "stream",
     "text": [
      "100%|█████████████████████████████████████████████████████████████████████████████████████████████████████████████████| 250/250 [00:28<00:00,  8.89it/s]\n"
     ]
    },
    {
     "name": "stdout",
     "output_type": "stream",
     "text": [
      "RetrievalClassifier predict completed in 28.1s\n",
      "BasicClassifier predict completed in 0.1s\n"
     ]
    },
    {
     "name": "stderr",
     "output_type": "stream",
     "text": [
      "100%|█████████████████████████████████████████████████████████████████████████████████████████████████████████████████| 249/249 [00:23<00:00, 10.72it/s]"
     ]
    },
    {
     "name": "stdout",
     "output_type": "stream",
     "text": [
      "RetrievalClassifier predict completed in 23.2s\n"
     ]
    },
    {
     "name": "stderr",
     "output_type": "stream",
     "text": [
      "\n"
     ]
    }
   ],
   "source": [
    "summaries, details = [], []\n",
    "for clf in clfs:\n",
    "    data_name = clf['data_name']\n",
    "    _, _, X_test, y_test = data.get_datasets(data_name)\n",
    "    summary, detail = evaluate_clf(clf['clf'], X_test, y_test)\n",
    "    summary['data_name'], detail['data_name'] = data_name, data_name\n",
    "    summaries.append(summary)\n",
    "    details.append(detail)"
   ]
  },
  {
   "cell_type": "code",
   "execution_count": 7,
   "id": "dbe7a7f1-c635-455e-b856-bed458e52f1c",
   "metadata": {},
   "outputs": [
    {
     "data": {
      "text/html": [
       "<div>\n",
       "<style scoped>\n",
       "    .dataframe tbody tr th:only-of-type {\n",
       "        vertical-align: middle;\n",
       "    }\n",
       "\n",
       "    .dataframe tbody tr th {\n",
       "        vertical-align: top;\n",
       "    }\n",
       "\n",
       "    .dataframe thead th {\n",
       "        text-align: right;\n",
       "    }\n",
       "</style>\n",
       "<table border=\"1\" class=\"dataframe\">\n",
       "  <thead>\n",
       "    <tr style=\"text-align: right;\">\n",
       "      <th></th>\n",
       "      <th></th>\n",
       "      <th>accuracy</th>\n",
       "      <th>f1_score</th>\n",
       "      <th>precision</th>\n",
       "      <th>recall</th>\n",
       "    </tr>\n",
       "    <tr>\n",
       "      <th>data_name</th>\n",
       "      <th>clf</th>\n",
       "      <th></th>\n",
       "      <th></th>\n",
       "      <th></th>\n",
       "      <th></th>\n",
       "    </tr>\n",
       "  </thead>\n",
       "  <tbody>\n",
       "    <tr>\n",
       "      <th rowspan=\"2\" valign=\"top\">goemotions</th>\n",
       "      <th>BasicClassifier</th>\n",
       "      <td>0.228916</td>\n",
       "      <td>0.315086</td>\n",
       "      <td>0.587828</td>\n",
       "      <td>0.233426</td>\n",
       "    </tr>\n",
       "    <tr>\n",
       "      <th>RetrievalClassifier</th>\n",
       "      <td>0.269076</td>\n",
       "      <td>0.424673</td>\n",
       "      <td>0.433897</td>\n",
       "      <td>0.423973</td>\n",
       "    </tr>\n",
       "    <tr>\n",
       "      <th rowspan=\"2\" valign=\"top\">just_dance</th>\n",
       "      <th>BasicClassifier</th>\n",
       "      <td>0.353175</td>\n",
       "      <td>0.478793</td>\n",
       "      <td>0.442012</td>\n",
       "      <td>0.523706</td>\n",
       "    </tr>\n",
       "    <tr>\n",
       "      <th>RetrievalClassifier</th>\n",
       "      <td>0.373016</td>\n",
       "      <td>0.513497</td>\n",
       "      <td>0.489912</td>\n",
       "      <td>0.556591</td>\n",
       "    </tr>\n",
       "    <tr>\n",
       "      <th rowspan=\"2\" valign=\"top\">pubmed</th>\n",
       "      <th>BasicClassifier</th>\n",
       "      <td>0.304000</td>\n",
       "      <td>0.836427</td>\n",
       "      <td>0.825244</td>\n",
       "      <td>0.855761</td>\n",
       "    </tr>\n",
       "    <tr>\n",
       "      <th>RetrievalClassifier</th>\n",
       "      <td>0.256000</td>\n",
       "      <td>0.837754</td>\n",
       "      <td>0.777192</td>\n",
       "      <td>0.910791</td>\n",
       "    </tr>\n",
       "    <tr>\n",
       "      <th rowspan=\"2\" valign=\"top\">research_papers</th>\n",
       "      <th>BasicClassifier</th>\n",
       "      <td>0.510040</td>\n",
       "      <td>0.557957</td>\n",
       "      <td>0.660592</td>\n",
       "      <td>0.489712</td>\n",
       "    </tr>\n",
       "    <tr>\n",
       "      <th>RetrievalClassifier</th>\n",
       "      <td>0.534137</td>\n",
       "      <td>0.683246</td>\n",
       "      <td>0.674833</td>\n",
       "      <td>0.722843</td>\n",
       "    </tr>\n",
       "  </tbody>\n",
       "</table>\n",
       "</div>"
      ],
      "text/plain": [
       "                                     accuracy  f1_score  precision    recall\n",
       "data_name       clf                                                         \n",
       "goemotions      BasicClassifier      0.228916  0.315086   0.587828  0.233426\n",
       "                RetrievalClassifier  0.269076  0.424673   0.433897  0.423973\n",
       "just_dance      BasicClassifier      0.353175  0.478793   0.442012  0.523706\n",
       "                RetrievalClassifier  0.373016  0.513497   0.489912  0.556591\n",
       "pubmed          BasicClassifier      0.304000  0.836427   0.825244  0.855761\n",
       "                RetrievalClassifier  0.256000  0.837754   0.777192  0.910791\n",
       "research_papers BasicClassifier      0.510040  0.557957   0.660592  0.489712\n",
       "                RetrievalClassifier  0.534137  0.683246   0.674833  0.722843"
      ]
     },
     "execution_count": 7,
     "metadata": {},
     "output_type": "execute_result"
    }
   ],
   "source": [
    "pd.DataFrame(summaries).set_index(['data_name', 'clf'])"
   ]
  },
  {
   "cell_type": "code",
   "execution_count": 8,
   "id": "4eca5874-3289-4b24-aba2-363d69e6aab9",
   "metadata": {},
   "outputs": [
    {
     "name": "stdout",
     "output_type": "stream",
     "text": [
      "\n",
      "*** Dataset: goemotions ***\n",
      "\n"
     ]
    },
    {
     "data": {
      "text/html": [
       "<div>\n",
       "<style scoped>\n",
       "    .dataframe tbody tr th:only-of-type {\n",
       "        vertical-align: middle;\n",
       "    }\n",
       "\n",
       "    .dataframe tbody tr th {\n",
       "        vertical-align: top;\n",
       "    }\n",
       "\n",
       "    .dataframe thead th {\n",
       "        text-align: right;\n",
       "    }\n",
       "</style>\n",
       "<table border=\"1\" class=\"dataframe\">\n",
       "  <thead>\n",
       "    <tr style=\"text-align: right;\">\n",
       "      <th>label</th>\n",
       "      <th>admiration</th>\n",
       "      <th>amusement</th>\n",
       "      <th>anger</th>\n",
       "      <th>annoyance</th>\n",
       "      <th>approval</th>\n",
       "    </tr>\n",
       "    <tr>\n",
       "      <th>clf</th>\n",
       "      <th></th>\n",
       "      <th></th>\n",
       "      <th></th>\n",
       "      <th></th>\n",
       "      <th></th>\n",
       "    </tr>\n",
       "  </thead>\n",
       "  <tbody>\n",
       "    <tr>\n",
       "      <th>BasicClassifier</th>\n",
       "      <td>0.382022</td>\n",
       "      <td>0.416667</td>\n",
       "      <td>0.190476</td>\n",
       "      <td>0.219178</td>\n",
       "      <td>0.367089</td>\n",
       "    </tr>\n",
       "    <tr>\n",
       "      <th>RetrievalClassifier</th>\n",
       "      <td>0.448980</td>\n",
       "      <td>0.492754</td>\n",
       "      <td>0.387097</td>\n",
       "      <td>0.377358</td>\n",
       "      <td>0.417178</td>\n",
       "    </tr>\n",
       "  </tbody>\n",
       "</table>\n",
       "</div>"
      ],
      "text/plain": [
       "label                admiration  amusement     anger  annoyance  approval\n",
       "clf                                                                      \n",
       "BasicClassifier        0.382022   0.416667  0.190476   0.219178  0.367089\n",
       "RetrievalClassifier    0.448980   0.492754  0.387097   0.377358  0.417178"
      ]
     },
     "metadata": {},
     "output_type": "display_data"
    },
    {
     "name": "stdout",
     "output_type": "stream",
     "text": [
      "\n",
      "*** Dataset: just_dance ***\n",
      "\n"
     ]
    },
    {
     "data": {
      "text/html": [
       "<div>\n",
       "<style scoped>\n",
       "    .dataframe tbody tr th:only-of-type {\n",
       "        vertical-align: middle;\n",
       "    }\n",
       "\n",
       "    .dataframe tbody tr th {\n",
       "        vertical-align: top;\n",
       "    }\n",
       "\n",
       "    .dataframe thead th {\n",
       "        text-align: right;\n",
       "    }\n",
       "</style>\n",
       "<table border=\"1\" class=\"dataframe\">\n",
       "  <thead>\n",
       "    <tr style=\"text-align: right;\">\n",
       "      <th>label</th>\n",
       "      <th>Usability</th>\n",
       "      <th>UX</th>\n",
       "      <th>H-QOL</th>\n",
       "      <th>Memorability</th>\n",
       "      <th>Learnability</th>\n",
       "    </tr>\n",
       "    <tr>\n",
       "      <th>clf</th>\n",
       "      <th></th>\n",
       "      <th></th>\n",
       "      <th></th>\n",
       "      <th></th>\n",
       "      <th></th>\n",
       "    </tr>\n",
       "  </thead>\n",
       "  <tbody>\n",
       "    <tr>\n",
       "      <th>BasicClassifier</th>\n",
       "      <td>0.602620</td>\n",
       "      <td>0.95</td>\n",
       "      <td>0.841346</td>\n",
       "      <td>0.0</td>\n",
       "      <td>0.0</td>\n",
       "    </tr>\n",
       "    <tr>\n",
       "      <th>RetrievalClassifier</th>\n",
       "      <td>0.572614</td>\n",
       "      <td>0.95</td>\n",
       "      <td>0.844869</td>\n",
       "      <td>0.0</td>\n",
       "      <td>0.2</td>\n",
       "    </tr>\n",
       "  </tbody>\n",
       "</table>\n",
       "</div>"
      ],
      "text/plain": [
       "label                Usability    UX     H-QOL  Memorability  Learnability\n",
       "clf                                                                       \n",
       "BasicClassifier       0.602620  0.95  0.841346           0.0           0.0\n",
       "RetrievalClassifier   0.572614  0.95  0.844869           0.0           0.2"
      ]
     },
     "metadata": {},
     "output_type": "display_data"
    },
    {
     "name": "stdout",
     "output_type": "stream",
     "text": [
      "\n",
      "*** Dataset: pubmed ***\n",
      "\n"
     ]
    },
    {
     "data": {
      "text/html": [
       "<div>\n",
       "<style scoped>\n",
       "    .dataframe tbody tr th:only-of-type {\n",
       "        vertical-align: middle;\n",
       "    }\n",
       "\n",
       "    .dataframe tbody tr th {\n",
       "        vertical-align: top;\n",
       "    }\n",
       "\n",
       "    .dataframe thead th {\n",
       "        text-align: right;\n",
       "    }\n",
       "</style>\n",
       "<table border=\"1\" class=\"dataframe\">\n",
       "  <thead>\n",
       "    <tr style=\"text-align: right;\">\n",
       "      <th>label</th>\n",
       "      <th>A</th>\n",
       "      <th>B</th>\n",
       "      <th>C</th>\n",
       "      <th>D</th>\n",
       "      <th>E</th>\n",
       "    </tr>\n",
       "    <tr>\n",
       "      <th>clf</th>\n",
       "      <th></th>\n",
       "      <th></th>\n",
       "      <th></th>\n",
       "      <th></th>\n",
       "      <th></th>\n",
       "    </tr>\n",
       "  </thead>\n",
       "  <tbody>\n",
       "    <tr>\n",
       "      <th>BasicClassifier</th>\n",
       "      <td>0.666667</td>\n",
       "      <td>0.977505</td>\n",
       "      <td>0.821293</td>\n",
       "      <td>0.83432</td>\n",
       "      <td>0.882353</td>\n",
       "    </tr>\n",
       "    <tr>\n",
       "      <th>RetrievalClassifier</th>\n",
       "      <td>0.717241</td>\n",
       "      <td>0.977505</td>\n",
       "      <td>0.769231</td>\n",
       "      <td>0.84000</td>\n",
       "      <td>0.884793</td>\n",
       "    </tr>\n",
       "  </tbody>\n",
       "</table>\n",
       "</div>"
      ],
      "text/plain": [
       "label                       A         B         C        D         E\n",
       "clf                                                                 \n",
       "BasicClassifier      0.666667  0.977505  0.821293  0.83432  0.882353\n",
       "RetrievalClassifier  0.717241  0.977505  0.769231  0.84000  0.884793"
      ]
     },
     "metadata": {},
     "output_type": "display_data"
    },
    {
     "name": "stdout",
     "output_type": "stream",
     "text": [
      "\n",
      "*** Dataset: research_papers ***\n",
      "\n"
     ]
    },
    {
     "data": {
      "text/html": [
       "<div>\n",
       "<style scoped>\n",
       "    .dataframe tbody tr th:only-of-type {\n",
       "        vertical-align: middle;\n",
       "    }\n",
       "\n",
       "    .dataframe tbody tr th {\n",
       "        vertical-align: top;\n",
       "    }\n",
       "\n",
       "    .dataframe thead th {\n",
       "        text-align: right;\n",
       "    }\n",
       "</style>\n",
       "<table border=\"1\" class=\"dataframe\">\n",
       "  <thead>\n",
       "    <tr style=\"text-align: right;\">\n",
       "      <th>label</th>\n",
       "      <th>Computer Science</th>\n",
       "      <th>Physics</th>\n",
       "      <th>Mathematics</th>\n",
       "      <th>Statistics</th>\n",
       "      <th>Quantitative Biology</th>\n",
       "    </tr>\n",
       "    <tr>\n",
       "      <th>clf</th>\n",
       "      <th></th>\n",
       "      <th></th>\n",
       "      <th></th>\n",
       "      <th></th>\n",
       "      <th></th>\n",
       "    </tr>\n",
       "  </thead>\n",
       "  <tbody>\n",
       "    <tr>\n",
       "      <th>BasicClassifier</th>\n",
       "      <td>0.738916</td>\n",
       "      <td>0.805970</td>\n",
       "      <td>0.673469</td>\n",
       "      <td>0.571429</td>\n",
       "      <td>0.000000</td>\n",
       "    </tr>\n",
       "    <tr>\n",
       "      <th>RetrievalClassifier</th>\n",
       "      <td>0.781513</td>\n",
       "      <td>0.847682</td>\n",
       "      <td>0.750000</td>\n",
       "      <td>0.703704</td>\n",
       "      <td>0.333333</td>\n",
       "    </tr>\n",
       "  </tbody>\n",
       "</table>\n",
       "</div>"
      ],
      "text/plain": [
       "label                Computer Science   Physics  Mathematics  Statistics  \\\n",
       "clf                                                                        \n",
       "BasicClassifier              0.738916  0.805970     0.673469    0.571429   \n",
       "RetrievalClassifier          0.781513  0.847682     0.750000    0.703704   \n",
       "\n",
       "label                Quantitative Biology  \n",
       "clf                                        \n",
       "BasicClassifier                  0.000000  \n",
       "RetrievalClassifier              0.333333  "
      ]
     },
     "metadata": {},
     "output_type": "display_data"
    }
   ],
   "source": [
    "detail = pd.concat(details)\n",
    "for data_name in detail['data_name'].unique():\n",
    "    _, _, _, y_test = data.get_datasets(data_name)\n",
    "    print(f'\\n*** Dataset: {data_name} ***\\n')\n",
    "    display(\n",
    "        detail.query('data_name == @data_name')\n",
    "        .pivot_table(index='clf', columns=['label'], values='f1-score')\n",
    "        [y_test.columns]\n",
    "    )"
   ]
  },
  {
   "cell_type": "markdown",
   "id": "4c0c0a44-76ac-429a-86cc-5b71cb11090b",
   "metadata": {},
   "source": [
    "# Summary"
   ]
  },
  {
   "cell_type": "markdown",
   "id": "b636c718-bb7f-41b3-8eaa-abfdc0bf9e53",
   "metadata": {},
   "source": [
    "- Looking at the F1 score of the 4 different datasets, it seems that RetrievalClassifier outperforms BasicClassifier on datasets with limited labels (ie. goemotions, just_dance, research_papers).\n",
    "- Performance seems to be similar on datasets with sufficient labels (ie. pubmed)"
   ]
  },
  {
   "cell_type": "code",
   "execution_count": null,
   "id": "cadcb345-df14-4959-870f-9b7ab09ab8fd",
   "metadata": {},
   "outputs": [],
   "source": []
  }
 ],
 "metadata": {
  "kernelspec": {
   "display_name": "Python 3 (ipykernel)",
   "language": "python",
   "name": "python3"
  },
  "language_info": {
   "codemirror_mode": {
    "name": "ipython",
    "version": 3
   },
   "file_extension": ".py",
   "mimetype": "text/x-python",
   "name": "python",
   "nbconvert_exporter": "python",
   "pygments_lexer": "ipython3",
   "version": "3.11.4"
  }
 },
 "nbformat": 4,
 "nbformat_minor": 5
}
